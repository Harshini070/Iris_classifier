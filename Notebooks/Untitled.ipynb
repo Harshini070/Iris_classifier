{
 "cells": [
  {
   "cell_type": "code",
   "execution_count": 3,
   "id": "8a4da040-0540-4183-b269-d20b04202404",
   "metadata": {},
   "outputs": [
    {
     "name": "stdout",
     "output_type": "stream",
     "text": [
      "Collecting scikit-learn\n",
      "  Downloading scikit_learn-1.5.2-cp311-cp311-win_amd64.whl.metadata (13 kB)\n",
      "Requirement already satisfied: numpy>=1.19.5 in c:\\users\\user\\appdata\\local\\packages\\pythonsoftwarefoundation.python.3.11_qbz5n2kfra8p0\\localcache\\local-packages\\python311\\site-packages (from scikit-learn) (2.0.1)\n",
      "Collecting scipy>=1.6.0 (from scikit-learn)\n",
      "  Downloading scipy-1.14.1-cp311-cp311-win_amd64.whl.metadata (60 kB)\n",
      "Requirement already satisfied: joblib>=1.2.0 in c:\\users\\user\\appdata\\local\\packages\\pythonsoftwarefoundation.python.3.11_qbz5n2kfra8p0\\localcache\\local-packages\\python311\\site-packages (from scikit-learn) (1.4.2)\n",
      "Collecting threadpoolctl>=3.1.0 (from scikit-learn)\n",
      "  Downloading threadpoolctl-3.5.0-py3-none-any.whl.metadata (13 kB)\n",
      "Downloading scikit_learn-1.5.2-cp311-cp311-win_amd64.whl (11.0 MB)\n",
      "   ---------------------------------------- 0.0/11.0 MB ? eta -:--:--\n",
      "   --------- ------------------------------ 2.6/11.0 MB 16.7 MB/s eta 0:00:01\n",
      "   -------------------------- ------------- 7.3/11.0 MB 19.7 MB/s eta 0:00:01\n",
      "   ---------------------------------------- 11.0/11.0 MB 18.6 MB/s eta 0:00:00\n",
      "Downloading scipy-1.14.1-cp311-cp311-win_amd64.whl (44.8 MB)\n",
      "   ---------------------------------------- 0.0/44.8 MB ? eta -:--:--\n",
      "   --- ------------------------------------ 4.5/44.8 MB 22.4 MB/s eta 0:00:02\n",
      "   -------- ------------------------------- 9.4/44.8 MB 22.6 MB/s eta 0:00:02\n",
      "   ------------ --------------------------- 13.9/44.8 MB 21.3 MB/s eta 0:00:02\n",
      "   ---------------- ----------------------- 18.9/44.8 MB 22.1 MB/s eta 0:00:02\n",
      "   -------------------- ------------------- 22.5/44.8 MB 20.7 MB/s eta 0:00:02\n",
      "   ------------------------ --------------- 27.3/44.8 MB 21.1 MB/s eta 0:00:01\n",
      "   ----------------------------- ---------- 32.5/44.8 MB 21.7 MB/s eta 0:00:01\n",
      "   --------------------------------- ------ 37.2/44.8 MB 21.3 MB/s eta 0:00:01\n",
      "   ------------------------------------- -- 42.2/44.8 MB 21.3 MB/s eta 0:00:01\n",
      "   ---------------------------------------  44.6/44.8 MB 21.6 MB/s eta 0:00:01\n",
      "   ---------------------------------------- 44.8/44.8 MB 18.7 MB/s eta 0:00:00\n",
      "Downloading threadpoolctl-3.5.0-py3-none-any.whl (18 kB)\n",
      "Installing collected packages: threadpoolctl, scipy, scikit-learn\n",
      "Successfully installed scikit-learn-1.5.2 scipy-1.14.1 threadpoolctl-3.5.0\n"
     ]
    }
   ],
   "source": [
    "!pip install scikit-learn"
   ]
  },
  {
   "cell_type": "code",
   "execution_count": 4,
   "id": "e175694a-f14d-4549-b024-a862d5f6f5ef",
   "metadata": {},
   "outputs": [
    {
     "name": "stdout",
     "output_type": "stream",
     "text": [
      "Model accuracy: 1.00\n",
      "Model saved as 'iris_model.joblib'\n"
     ]
    }
   ],
   "source": [
    "# Step 1: Import libraries\n",
    "from sklearn.datasets import load_iris\n",
    "from sklearn.model_selection import train_test_split\n",
    "from sklearn.ensemble import RandomForestClassifier\n",
    "from sklearn.metrics import accuracy_score\n",
    "import joblib\n",
    "\n",
    "# Step 2: Load the Iris dataset\n",
    "iris = load_iris()\n",
    "X = iris.data  # Features\n",
    "y = iris.target  # Labels\n",
    "\n",
    "# Step 3: Split the data into training and test sets\n",
    "X_train, X_test, y_train, y_test = train_test_split(X, y, test_size=0.2, random_state=42)\n",
    "\n",
    "# Step 4: Train the model\n",
    "model = RandomForestClassifier(n_estimators=100, random_state=42)\n",
    "model.fit(X_train, y_train)\n",
    "\n",
    "# Step 5: Evaluate the model\n",
    "y_pred = model.predict(X_test)\n",
    "accuracy = accuracy_score(y_test, y_pred)\n",
    "print(f\"Model accuracy: {accuracy:.2f}\")\n",
    "\n",
    "# Step 6: Save the model\n",
    "joblib.dump(model, 'iris_model.joblib')\n",
    "print(\"Model saved as 'iris_model.joblib'\")\n"
   ]
  },
  {
   "cell_type": "code",
   "execution_count": 6,
   "id": "ecb4d72f-b802-40bb-b98c-cc835f66c876",
   "metadata": {},
   "outputs": [
    {
     "data": {
      "text/plain": [
       "['./../Savedmodels/model.joblib']"
      ]
     },
     "execution_count": 6,
     "metadata": {},
     "output_type": "execute_result"
    }
   ],
   "source": [
    "from joblib import dump\n",
    "dump(model, './../Savedmodels/model.joblib')\n"
   ]
  },
  {
   "cell_type": "code",
   "execution_count": null,
   "id": "1acc9ece-65b5-43ec-ab57-add3d5d358b6",
   "metadata": {},
   "outputs": [],
   "source": []
  }
 ],
 "metadata": {
  "kernelspec": {
   "display_name": "Python 3 (ipykernel)",
   "language": "python",
   "name": "python3"
  },
  "language_info": {
   "codemirror_mode": {
    "name": "ipython",
    "version": 3
   },
   "file_extension": ".py",
   "mimetype": "text/x-python",
   "name": "python",
   "nbconvert_exporter": "python",
   "pygments_lexer": "ipython3",
   "version": "3.11.9"
  }
 },
 "nbformat": 4,
 "nbformat_minor": 5
}
